{
 "cells": [
  {
   "cell_type": "code",
   "execution_count": 14,
   "metadata": {
    "collapsed": true
   },
   "outputs": [],
   "source": [
    "import itertools\n",
    "import math"
   ]
  },
  {
   "cell_type": "code",
   "execution_count": 34,
   "metadata": {},
   "outputs": [],
   "source": [
    "def ticket(n):\n",
    "    permutaties = list(itertools.permutations([1]*n + [2]*n))\n",
    "    \n",
    "    aantal_goeie_permutaties = 0\n",
    "    for perm in permutaties:\n",
    "        geldig = 1\n",
    "        for i in range(1, 2*n+1):\n",
    "            perm_count = perm[:i]\n",
    "            if (perm_count.count(1) < perm_count.count(2)):\n",
    "                geldig = 0\n",
    "                break\n",
    "        if geldig:\n",
    "            aantal_goeie_permutaties += 1\n",
    "            \n",
    "    return aantal_goeie_permutaties\n",
    "\n",
    "def kans(n):\n",
    "    return ticket(n)/math.factorial(2*n)\n",
    "\n",
    "def mogelijkheid1(n):\n",
    "    return 1/2\n",
    "\n",
    "def mogelijkheid2(n):\n",
    "    return 1/n\n",
    "\n",
    "def mogelijkheid3(n):\n",
    "    return 1/(n+1)\n",
    "\n",
    "def mogelijkheid4(n):\n",
    "    return (n-1)/n\n",
    "\n",
    "def mogelijkheid5(n):\n",
    "    return n/(n+1)\n",
    "\n",
    "mogelijkheden = [mogelijkheid1, mogelijkheid2, mogelijkheid3, mogelijkheid4, mogelijkheid5]\n",
    "\n",
    "def vergelijk(n, fout):\n",
    "    \n",
    "    gesimuleerde_kans = kans(n)\n",
    "    for i in range(len(mogelijkheden)):\n",
    "        fout[i] += (gesimuleerde_kans - mogelijkheden[i](n))**2"
   ]
  },
  {
   "cell_type": "code",
   "execution_count": 44,
   "metadata": {},
   "outputs": [],
   "source": [
    "fout = [0]*5"
   ]
  },
  {
   "cell_type": "code",
   "execution_count": 45,
   "metadata": {},
   "outputs": [
    {
     "name": "stdout",
     "output_type": "stream",
     "text": [
      "3\n",
      "4\n",
      "5\n"
     ]
    }
   ],
   "source": [
    "for n in range(3, 6):\n",
    "    print(n)\n",
    "    vergelijk(n, fout)"
   ]
  },
  {
   "cell_type": "code",
   "execution_count": null,
   "metadata": {
    "collapsed": true
   },
   "outputs": [],
   "source": []
  },
  {
   "cell_type": "code",
   "execution_count": 46,
   "metadata": {},
   "outputs": [
    {
     "data": {
      "text/plain": [
       "[0.26361111111111113,\n",
       " 0.010555555555555552,\n",
       " 0.0,\n",
       " 0.8772222222222223,\n",
       " 1.0544444444444445]"
      ]
     },
     "execution_count": 46,
     "metadata": {},
     "output_type": "execute_result"
    }
   ],
   "source": [
    "fout"
   ]
  },
  {
   "cell_type": "code",
   "execution_count": null,
   "metadata": {
    "collapsed": true
   },
   "outputs": [],
   "source": []
  }
 ],
 "metadata": {
  "kernelspec": {
   "display_name": "Python 3",
   "language": "python",
   "name": "python3"
  },
  "language_info": {
   "codemirror_mode": {
    "name": "ipython",
    "version": 3
   },
   "file_extension": ".py",
   "mimetype": "text/x-python",
   "name": "python",
   "nbconvert_exporter": "python",
   "pygments_lexer": "ipython3",
   "version": "3.6.3"
  }
 },
 "nbformat": 4,
 "nbformat_minor": 2
}
